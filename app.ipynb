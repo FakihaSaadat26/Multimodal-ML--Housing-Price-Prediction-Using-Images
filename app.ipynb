{
 "cells": [
  {
   "cell_type": "markdown",
   "id": "bdb8048f",
   "metadata": {},
   "source": [
    "IMPORTING NECESSARY LIBRARIES"
   ]
  },
  {
   "cell_type": "code",
   "execution_count": null,
   "id": "6afbdffe",
   "metadata": {},
   "outputs": [],
   "source": [
    "import pandas as pd\n",
    "import tensorflow as tf\n",
    "from sklearn.metrics import mean_absolute_error, mean_squared_error\n",
    "import numpy as np\n",
    "from sklearn.model_selection import train_test_split\n",
    "from sklearn.preprocessing import StandardScaler\n",
    "import os"
   ]
  },
  {
   "cell_type": "markdown",
   "id": "64d04908",
   "metadata": {},
   "source": []
  },
  {
   "cell_type": "markdown",
   "id": "83ad7f93",
   "metadata": {},
   "source": [
    "loading dataset"
   ]
  },
  {
   "cell_type": "code",
   "execution_count": null,
   "id": "1abb2fa0",
   "metadata": {},
   "outputs": [],
   "source": [
    "tabular_data = pd.read_csv(\"https://raw.githubusercontent.com/ageron/handson-ml2/master/datasets/housing/housing.csv\")\n",
    "tabular_data.dropna(inplace=True)\n",
    "tabular_data = pd.get_dummies(tabular_data)\n",
    "\n",
    "# Simulate image features (replace with CNN output in practice)\n",
    "tabular_data[\"image_feature\"] = np.random.rand(len(tabular_data))\n",
    "\n",
    "# Split\n",
    "X = tabular_data.drop(\"median_house_value\", axis=1)\n",
    "y = tabular_data[\"median_house_value\"]\n",
    "\n",
    "X_train, X_test, y_train, y_test = train_test_split(X, y, test_size=0.2, random_state=42)\n",
    "\n",
    "# Normalize\n",
    "scaler = StandardScaler()\n",
    "X_train_scaled = scaler.fit_transform(X_train)\n",
    "X_test_scaled = scaler.transform(X_test)"
   ]
  },
  {
   "cell_type": "markdown",
   "id": "bcc9216a",
   "metadata": {},
   "source": [
    "model training"
   ]
  },
  {
   "cell_type": "code",
   "execution_count": null,
   "id": "57d0461c",
   "metadata": {},
   "outputs": [],
   "source": [
    "model = tf.keras.Sequential([\n",
    "    tf.keras.layers.Input(shape=(X_train_scaled.shape[1],)),\n",
    "    tf.keras.layers.Dense(128, activation='relu'),\n",
    "    tf.keras.layers.Dense(64, activation='relu'),\n",
    "    tf.keras.layers.Dense(1)\n",
    "])\n",
    "\n",
    "model.compile(optimizer='adam', loss='mse', metrics=['mae'])\n",
    "\n",
    "model.fit(X_train_scaled, y_train, epochs=10, batch_size=32, validation_split=0.1)\n",
    "\n",
    "preds = model.predict(X_test_scaled).flatten()\n",
    "print(\"MAE:\", mean_absolute_error(y_test, preds))\n",
    "print(\"RMSE:\", mean_squared_error(y_test, preds, squared=False))"
   ]
  }
 ],
 "metadata": {
  "kernelspec": {
   "display_name": "Python 3",
   "language": "python",
   "name": "python3"
  },
  "language_info": {
   "codemirror_mode": {
    "name": "ipython",
    "version": 3
   },
   "file_extension": ".py",
   "mimetype": "text/x-python",
   "name": "python",
   "nbconvert_exporter": "python",
   "pygments_lexer": "ipython3",
   "version": "3.12.4"
  }
 },
 "nbformat": 4,
 "nbformat_minor": 5
}
